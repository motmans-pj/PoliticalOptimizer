{
 "cells": [
  {
   "cell_type": "markdown",
   "id": "8e456643",
   "metadata": {},
   "source": [
    "Here we will implement the political optimizer algorithm. \n",
    "It consists of 4 steps: \n",
    "\n",
    "- The main framework (algorithm 1 in the paper)\n",
    "- The Election Campaign (algorithm 2)\n",
    "- Party Switching (algorithm 3)\n",
    "- Parliamentary Affairs (algorithm 4)\n",
    "\n",
    "For the moment, we can just make this 4 functions in a jupyter notebook. When we have confirmation from the mealpy library, we can start adapting it to the form they want. (they have an optimizer class with some built-in methods etc.)\n",
    "\n",
    "A first problem is how we want to initialise the population. From the matlab code of the authors, this is how they did it: https://fr.mathworks.com/matlabcentral/fileexchange/74577-political-optimizer-po/\n",
    "Again, if we can work within the MealPy library, there are built-in functions for this. I will therefore try to make abstraction of this for now. "
   ]
  },
  {
   "cell_type": "code",
   "execution_count": 2,
   "id": "61589aef",
   "metadata": {},
   "outputs": [],
   "source": [
    "import numpy as np"
   ]
  },
  {
   "cell_type": "code",
   "execution_count": 33,
   "id": "5d242ad1",
   "metadata": {},
   "outputs": [],
   "source": [
    "def PoliticalOptimizer(fun, n, lambdamax, tmax, d):\n",
    "    '''\n",
    "    Parameters: \n",
    "    fun -> the function we want to optimize\n",
    "    n -> the number of contituencies, political parties and party members\n",
    "    lambdamax -> upper limit of the party switching rate\n",
    "    tmax -> number of iterations\n",
    "    \n",
    "    d -> number of dimensions, we don't want this to be a parameter later I think\n",
    "    \n",
    "    Out: the final population\n",
    "    '''\n",
    "    \n",
    "    ################\n",
    "    # Initialization: sth arbitrary now to replicate the paper, making 9 2D individuals\n",
    "    # n = 3 parties, d = 2 dimensions\n",
    "    ################\n",
    "    \n",
    "    populationt = np.zeros((n**2, d))\n",
    "    for i in range(n**2):\n",
    "        population[i,:] = np.random.normal(0,1,2)\n",
    "        \n",
    "    ###############\n",
    "    # Initializing parties\n",
    "    # We have n parties and constituencies in the political system, we initialize them here\n",
    "    # party 1 consists of the first n individuals, party 2 of the following n etc.\n",
    "    # we store the indices in parties, so that we can always use the indices to refer to individuals in the population\n",
    "    ###############\n",
    "    parties = constituencies = np.array([range(n*i, (n*i+n)) for i in range(n)])\n",
    "    \n",
    "    \n",
    "    ###############\n",
    "    # Initialize the fitness of all individuals\n",
    "    ###############\n",
    "    fitnesst = np.array([fun(x) for x in population])    \n",
    "    \n",
    "    ################# \n",
    "    # Computing the party leaders\n",
    "    #################\n",
    "    \n",
    "    # First we look at the first party, then the second, then the third,...\n",
    "    n_party = 0\n",
    "    partyleaders = np.zeros(n)\n",
    "    for party in parties:\n",
    "        partyleaders[n_party] = n_party*n + np.argmin(fitness[party])\n",
    "        n_party += 1\n",
    "        \n",
    "        \n",
    "    ################\n",
    "    # Computing the constituency leaders, 1 member for each party competes against each other\n",
    "    # So in our toy example it is individual 0 vs. 3 vs. 6\n",
    "    # In general it is 0 * n, 1 * n ...\n",
    "    ################\n",
    "    \n",
    "    \n",
    "        \n",
    "     \n",
    "    ################\n",
    "    # Further initialisations\n",
    "    ################\n",
    "    t = 1\n",
    "    populationtmin1 = populationt\n",
    "    fitnessmin1 = fitnesst\n",
    "    Lambda = lambdamax\n",
    "    \n",
    "    \n",
    "    ################\n",
    "    # Starting while loop\n",
    "    ################\n",
    "    \n",
    "\n",
    "    \n",
    "    \n",
    "    \n",
    "# here we try to minimize the 3D-paraboloïd with center 0        \n",
    "PoliticalOptimizer(lambda x: x[0]**2 + x[1]**2,3,2,2,2) "
   ]
  },
  {
   "cell_type": "code",
   "execution_count": null,
   "id": "1ccfe7ba",
   "metadata": {},
   "outputs": [],
   "source": [
    "def ElectionCampaign(pji, pjitminus1, pstari, cstarj):\n",
    "    return 0"
   ]
  },
  {
   "cell_type": "code",
   "execution_count": null,
   "id": "8bc00b22",
   "metadata": {},
   "outputs": [],
   "source": [
    "def PartySwitching(population, Lambda):\n",
    "    return 0"
   ]
  },
  {
   "cell_type": "code",
   "execution_count": null,
   "id": "fcbde6b3",
   "metadata": {},
   "outputs": [],
   "source": [
    "def ParliamentaryAffairs(constituencyLeaders, population):\n",
    "    return 0"
   ]
  }
 ],
 "metadata": {
  "kernelspec": {
   "display_name": "Python 3 (ipykernel)",
   "language": "python",
   "name": "python3"
  },
  "language_info": {
   "codemirror_mode": {
    "name": "ipython",
    "version": 3
   },
   "file_extension": ".py",
   "mimetype": "text/x-python",
   "name": "python",
   "nbconvert_exporter": "python",
   "pygments_lexer": "ipython3",
   "version": "3.9.7"
  }
 },
 "nbformat": 4,
 "nbformat_minor": 5
}
